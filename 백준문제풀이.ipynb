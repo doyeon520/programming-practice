{
 "cells": [
  {
   "cell_type": "code",
   "execution_count": 1,
   "metadata": {},
   "outputs": [
    {
     "name": "stdin",
     "output_type": "stream",
     "text": [
      " 18\n"
     ]
    },
    {
     "name": "stdout",
     "output_type": "stream",
     "text": [
      "4\n"
     ]
    }
   ],
   "source": [
    "#2839\n",
    "n = int(input())\n",
    "# 초기화\n",
    "five = 0\n",
    "three = 0\n",
    " \n",
    "# 최대 5kg의 갯수와 나머지를 구한다.\n",
    "five = n//5\n",
    "b = n%5\n",
    " \n",
    "# 나머지가 0이 아니면 3kg 갯수를 구한다.\n",
    "if b !=0:\n",
    "    while five >= 0:\n",
    "        if b%3 == 0:\n",
    "            three = b//3\n",
    "            break\n",
    "        five -= 1\n",
    "        b += 5\n",
    "            \n",
    "ret=five + three\n",
    " \n",
    "if ret < 1:\n",
    "    ret = -1\n",
    "print(ret)"
   ]
  },
  {
   "cell_type": "code",
   "execution_count": 8,
   "metadata": {},
   "outputs": [
    {
     "name": "stdin",
     "output_type": "stream",
     "text": [
      " 3\n",
      " 3 2 1\n"
     ]
    },
    {
     "name": "stdout",
     "output_type": "stream",
     "text": [
      "10\n"
     ]
    }
   ],
   "source": [
    "#11399\n",
    "n = int(input())\n",
    "s = list(map(int, input().split()))\n",
    "s.sort()\n",
    "a=0\n",
    "for i in range(len(s)):\n",
    "    a+=sum(s[0:i+1])\n",
    "print(a)"
   ]
  },
  {
   "cell_type": "code",
   "execution_count": 18,
   "metadata": {},
   "outputs": [
    {
     "name": "stdin",
     "output_type": "stream",
     "text": [
      " 123\n"
     ]
    },
    {
     "name": "stdout",
     "output_type": "stream",
     "text": [
      "10\n"
     ]
    }
   ],
   "source": [
    "#5585\n",
    "# 500엔, 100엔, 50엔, 10엔, 5엔, 1엔\n",
    "n=int(input())\n",
    "give=1000-n\n",
    "fivehund=give//500\n",
    "fivehunds=give%500\n",
    "onehund=fivehunds//100\n",
    "onehunds=fivehunds%100\n",
    "fifty=onehunds//50\n",
    "fiftys=onehunds%50\n",
    "ten=fiftys//10\n",
    "tens=fiftys%10\n",
    "five=tens//5\n",
    "fives=tens%5\n",
    "one=fives//1\n",
    "ones=fives%1\n",
    "answer=fivehund+onehund+fifty+ten+five+one\n",
    "print(answer)\n"
   ]
  },
  {
   "cell_type": "code",
   "execution_count": 24,
   "metadata": {},
   "outputs": [
    {
     "name": "stdin",
     "output_type": "stream",
     "text": [
      " 123\n"
     ]
    },
    {
     "name": "stdout",
     "output_type": "stream",
     "text": [
      "10\n"
     ]
    }
   ],
   "source": [
    "#5585\n",
    "n=int(input())\n",
    "change=1000-n\n",
    "change_money=[500,100,50,10,5,1]\n",
    "num=0\n",
    "for i in range(6):\n",
    "    coin=change_money[i]\n",
    "    if change>=coin:\n",
    "        mok=change//coin\n",
    "        num+=mok\n",
    "        change-=coin*mok\n",
    "print(num)"
   ]
  },
  {
   "cell_type": "code",
   "execution_count": 18,
   "metadata": {},
   "outputs": [
    {
     "name": "stdin",
     "output_type": "stream",
     "text": [
      " 3\n",
      " 2\n",
      " 4\n",
      " 1\n"
     ]
    },
    {
     "name": "stdout",
     "output_type": "stream",
     "text": [
      "4\n"
     ]
    }
   ],
   "source": [
    "#2217\n",
    "n = int(input())\n",
    "rope=[]\n",
    "for i in range(n):\n",
    "    rope.append(int(input()))\n",
    "rope.sort(reverse=True)\n",
    "answer=[]\n",
    "for j in range(n):\n",
    "    answer.append(rope[j]*(j+1))\n",
    "print(max(answer))\n"
   ]
  },
  {
   "cell_type": "code",
   "execution_count": 48,
   "metadata": {},
   "outputs": [
    {
     "data": {
      "text/plain": [
       "-35"
      ]
     },
     "execution_count": 48,
     "metadata": {},
     "output_type": "execute_result"
    }
   ],
   "source": [
    "#1541\n",
    "n=input().split('-')\n",
    "answer=0\n",
    "for i in n[0].split('+'):\n",
    "    answer+=int(i)\n",
    "for j in n[1:]:\n",
    "    for k in j.split('+'):\n",
    "        answer-=int(k)\n",
    "print(answer)"
   ]
  },
  {
   "cell_type": "code",
   "execution_count": null,
   "metadata": {},
   "outputs": [],
   "source": [
    "#10872-재귀\n",
    "n=int(input())\n",
    "def fac(n):\n",
    "    if n<=1:\n",
    "        return 1\n",
    "    else:\n",
    "        return n*fac(n-1)\n",
    "print(fac(n))"
   ]
  },
  {
   "cell_type": "code",
   "execution_count": 4,
   "metadata": {},
   "outputs": [
    {
     "name": "stdin",
     "output_type": "stream",
     "text": [
      " 7\n",
      " 1 0 1 2 2 0 1\n"
     ]
    },
    {
     "name": "stdout",
     "output_type": "stream",
     "text": [
      "5\n"
     ]
    }
   ],
   "source": [
    "#14720\n",
    "n = int(input())\n",
    "milk = list(map(int,input().split()))\n",
    "\n",
    "count = 0\n",
    "\n",
    "for i in range(n):\n",
    "    if milk[i] == count % 3:\n",
    "        count += 1\n",
    "\n",
    "print(count)"
   ]
  },
  {
   "cell_type": "code",
   "execution_count": null,
   "metadata": {},
   "outputs": [],
   "source": []
  }
 ],
 "metadata": {
  "kernelspec": {
   "display_name": "Python 3",
   "language": "python",
   "name": "python3"
  },
  "language_info": {
   "codemirror_mode": {
    "name": "ipython",
    "version": 3
   },
   "file_extension": ".py",
   "mimetype": "text/x-python",
   "name": "python",
   "nbconvert_exporter": "python",
   "pygments_lexer": "ipython3",
   "version": "3.6.10"
  }
 },
 "nbformat": 4,
 "nbformat_minor": 4
}
